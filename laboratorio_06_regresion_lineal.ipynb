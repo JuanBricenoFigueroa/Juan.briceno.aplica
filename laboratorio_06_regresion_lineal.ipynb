{
 "cells": [
  {
   "cell_type": "markdown",
   "metadata": {},
   "source": [
    "<img src=\"images/usm.png\" width=\"480\" height=\"240\" align=\"left\"/>"
   ]
  },
  {
   "cell_type": "markdown",
   "metadata": {},
   "source": [
    "# MAT281 - 2° Semestre 2019\n",
    "## Aplicaciones de la Matemática en la Ingeniería\n",
    "\n",
    "\n",
    "EL siguiente laboratorio debe realizarse de manera individual. No es posible copiar y pegar código de otros estudiantes. \n",
    "Pueden consultar internet (stackoverflow, por ejemplo), pero deben indicar sus fuentes cuando corresponda.\n",
    "\n",
    "**Nombre**: *Juan Fco. Briceño Figueroa*\n",
    "\n",
    "**Rol**: *201510522-7*\n"
   ]
  },
  {
   "cell_type": "markdown",
   "metadata": {},
   "source": [
    "## Objetivos del laboratorio\n",
    "\n",
    "* Reforzar conceptos básicos de regresión lineal.\n"
   ]
  },
  {
   "cell_type": "markdown",
   "metadata": {},
   "source": [
    "## Contenidos\n",
    "\n",
    "* [Problema 01](#p1)\n"
   ]
  },
  {
   "cell_type": "markdown",
   "metadata": {},
   "source": [
    "<a id='p1'></a>\n",
    "## I.- Problema 01\n",
    "\n",
    "\n",
    "<img src=\"https://images-na.ssl-images-amazon.com/images/I/717VaRblQCL._UX679_.jpg\" width=\"360\" height=\"360\" align=\"center\"/>\n",
    "\n",
    "\n",
    "El conjunto de datos se denomina `serie_poleras.csv` y consta de las ventas de poleras durante los años del 2016 al 2019. \n",
    "\n",
    "El objetivo es predecir el precio de la polera basados en el número de ventas que se obtiene.\n",
    "\n",
    "\n",
    "Primero es necesario definir la [elasticidad](https://en.wikipedia.org/wiki/Elasticity_(economics)) (en el sentido económico). La **elasticidad demanda-precio** o simplemente **elasticidad de la demanda**, mide la variación relativa o porcentual que experimenta la cantidad demandada como consecuencia de una variación en el precio de un uno por ciento, en otras palabras mide la intensidad con la que responden los compradores a una variación en el precio.\n",
    "\n",
    "\n",
    "- Cuando la reducción del precio (P) hace que la cantidad demandada (Q) aumente tanto que la multiplicación de (P * Q) sea mayor a la original, se presenta una demanda elástica.E>1\n",
    "- Cuando la reducción del precio (P) hace que la cantidad demandada (Q) aumente en proporciones iguales y (P * Q) sea igual, la elasticidad es proporcional o igual a 1.\n",
    "- Cuando la reducción del precio (P) hace que la cantidad demandada (Q) aumente muy poco o nada que la multiplicación de (P * Q) es menor a la original, se afirma que la demanda de un bien es inelástica o rígida. E<1"
   ]
  },
  {
   "cell_type": "markdown",
   "metadata": {},
   "source": [
    "Este concepto será clave para realizar una correcta predición en los resultados. Ahora, a modo de ayuda, analicemos los datos."
   ]
  },
  {
   "cell_type": "code",
   "execution_count": 13,
   "metadata": {},
   "outputs": [],
   "source": [
    "import os\n",
    "import numpy as np\n",
    "import pandas as pd\n",
    "import matplotlib.pyplot as plt\n",
    "import seaborn as sns\n",
    "from sklearn import linear_model\n",
    "import statsmodels.api as sm\n",
    "from sklearn.model_selection import train_test_split\n",
    "import sklearn.model_selection\n",
    "\n",
    "%matplotlib inline\n",
    "sns.set_palette(\"deep\", desat=.6)\n",
    "sns.set_context(rc={\"figure.figsize\": (8, 4)})"
   ]
  },
  {
   "cell_type": "code",
   "execution_count": 2,
   "metadata": {},
   "outputs": [
    {
     "data": {
      "text/html": [
       "<div>\n",
       "<style scoped>\n",
       "    .dataframe tbody tr th:only-of-type {\n",
       "        vertical-align: middle;\n",
       "    }\n",
       "\n",
       "    .dataframe tbody tr th {\n",
       "        vertical-align: top;\n",
       "    }\n",
       "\n",
       "    .dataframe thead th {\n",
       "        text-align: right;\n",
       "    }\n",
       "</style>\n",
       "<table border=\"1\" class=\"dataframe\">\n",
       "  <thead>\n",
       "    <tr style=\"text-align: right;\">\n",
       "      <th></th>\n",
       "      <th>FECHA_LUNES</th>\n",
       "      <th>VENTA</th>\n",
       "      <th>PRECIO</th>\n",
       "      <th>STOCK</th>\n",
       "      <th>NAVIDAD</th>\n",
       "      <th>VERANO</th>\n",
       "      <th>PRIMAVERA</th>\n",
       "    </tr>\n",
       "  </thead>\n",
       "  <tbody>\n",
       "    <tr>\n",
       "      <th>0</th>\n",
       "      <td>2016-11-28</td>\n",
       "      <td>4031</td>\n",
       "      <td>482.629433</td>\n",
       "      <td>218477.00</td>\n",
       "      <td>0</td>\n",
       "      <td>1</td>\n",
       "      <td>1</td>\n",
       "    </tr>\n",
       "    <tr>\n",
       "      <th>1</th>\n",
       "      <td>2016-12-05</td>\n",
       "      <td>8236</td>\n",
       "      <td>496.487690</td>\n",
       "      <td>209313.00</td>\n",
       "      <td>0</td>\n",
       "      <td>1</td>\n",
       "      <td>1</td>\n",
       "    </tr>\n",
       "    <tr>\n",
       "      <th>2</th>\n",
       "      <td>2016-12-12</td>\n",
       "      <td>11798</td>\n",
       "      <td>490.107492</td>\n",
       "      <td>225950.00</td>\n",
       "      <td>0</td>\n",
       "      <td>1</td>\n",
       "      <td>1</td>\n",
       "    </tr>\n",
       "    <tr>\n",
       "      <th>3</th>\n",
       "      <td>2016-12-19</td>\n",
       "      <td>15749</td>\n",
       "      <td>527.144433</td>\n",
       "      <td>155811.00</td>\n",
       "      <td>1</td>\n",
       "      <td>1</td>\n",
       "      <td>1</td>\n",
       "    </tr>\n",
       "    <tr>\n",
       "      <th>4</th>\n",
       "      <td>2016-12-26</td>\n",
       "      <td>5838</td>\n",
       "      <td>476.613886</td>\n",
       "      <td>139957.99</td>\n",
       "      <td>0</td>\n",
       "      <td>1</td>\n",
       "      <td>1</td>\n",
       "    </tr>\n",
       "  </tbody>\n",
       "</table>\n",
       "</div>"
      ],
      "text/plain": [
       "  FECHA_LUNES  VENTA      PRECIO      STOCK  NAVIDAD  VERANO  PRIMAVERA\n",
       "0  2016-11-28   4031  482.629433  218477.00        0       1          1\n",
       "1  2016-12-05   8236  496.487690  209313.00        0       1          1\n",
       "2  2016-12-12  11798  490.107492  225950.00        0       1          1\n",
       "3  2016-12-19  15749  527.144433  155811.00        1       1          1\n",
       "4  2016-12-26   5838  476.613886  139957.99        0       1          1"
      ]
     },
     "execution_count": 2,
     "metadata": {},
     "output_type": "execute_result"
    }
   ],
   "source": [
    "# cargar datos\n",
    "df = pd.read_csv(os.path.join(\"data\",\"serie_poleras.csv\"), sep=\",\")\n",
    "\n",
    "df = df[['FECHA_LUNES',\n",
    "        'VENTA',\n",
    "        'PRECIO',\n",
    "         'STOCK',\n",
    "         'NAVIDAD',\n",
    "         'VERANO',\n",
    "        'PRIMAVERA']]\n",
    "\n",
    "df['FECHA_LUNES'] = pd.to_datetime(df['FECHA_LUNES'])\n",
    "df.head()"
   ]
  },
  {
   "cell_type": "code",
   "execution_count": 3,
   "metadata": {},
   "outputs": [
    {
     "data": {
      "text/plain": [
       "Timestamp('2019-08-26 00:00:00')"
      ]
     },
     "execution_count": 3,
     "metadata": {},
     "output_type": "execute_result"
    }
   ],
   "source": [
    "df[\"FECHA_LUNES\"].max()"
   ]
  },
  {
   "cell_type": "markdown",
   "metadata": {},
   "source": [
    "Le presentamos dos graficos de interés.\n",
    "\n",
    "### a) Precio vs ventas\n",
    "\n",
    "Dado que se quiere predecir el precio basado en las ventas de poleras, es necesario analizar la relación que existe entre ambos mediante un gráfico."
   ]
  },
  {
   "cell_type": "code",
   "execution_count": 4,
   "metadata": {},
   "outputs": [
    {
     "data": {
      "image/png": "[encoded data removed]",
      "text/plain": [
       "<Figure size 432x288 with 1 Axes>"
      ]
     },
     "metadata": {
      "needs_background": "light"
     },
     "output_type": "display_data"
    }
   ],
   "source": [
    "# parametros esteticos de seaborn\n",
    "sns.scatterplot(x='VENTA',\n",
    "           y='PRECIO',\n",
    "           data=df)\n",
    "plt.show()"
   ]
  },
  {
   "cell_type": "code",
   "execution_count": 14,
   "metadata": {},
   "outputs": [
    {
     "data": {
      "image/png": "[encoded data removed]",
      "text/plain": [
       "<Figure size 432x288 with 1 Axes>"
      ]
     },
     "metadata": {
      "needs_background": "light"
     },
     "output_type": "display_data"
    }
   ],
   "source": [
    "# parametros esteticos de seaborn\n",
    "\n",
    "ax = sns.scatterplot(x='FECHA_LUNES',\n",
    "           y='VENTA',\n",
    "           data=df)\n",
    "\n",
    "ax.set_xlim(df['FECHA_LUNES'].min(), df['FECHA_LUNES'].max())\n",
    "plt.show()"
   ]
  },
  {
   "cell_type": "markdown",
   "metadata": {},
   "source": [
    "Basado en la información presentada responda las siguientes preguntas:\n",
    "\n",
    "1. ¿ Cómo debería ser la relación entre las poleras (elásticidad)?, ¿ Cómo es en realidad la elasticidad ?.\n",
    "2.  ¿ Cuáles son las variables claves en el problema ?, ¿ Se necesitan más variables ?.\n",
    "3. ¿ Es necesario separar por fechas ?, en caso afirmativo, separe el conjunto de datos según su criterio.\n",
    "4. Realice un análisis exploratorio de los datos sobre las variables escogida en el punto 2. Ocupe estos resultados para interpretar de mejor forma el problema.\n",
    "5. Realice un ajuste de regresión lineal simple. Si es necesario, puede ocupar más de una regresión lineal simple según los casos encontrados. \n",
    "6. Realice predicciones de los precios para la venta de 10000,20000 y 30000 poleras."
   ]
  },
  {
   "cell_type": "code",
   "execution_count": null,
   "metadata": {},
   "outputs": [],
   "source": [
    "#Respuestas\n",
    "#1.-La relcion entre las poleras deberia ser negativa. Como se vio, si es que el detalle monetario de una polera incrementara en invierno es completamente\n",
    "   #improbable que se comple, mas aun, en esta epoca del año es cuando se producen las ventas masivas conocidas como ventas de bodega o remate de stock por parte de las \n",
    "   #distribuidoras, donde se alcanzan descuentos que pueden llegar al 80%. Por otro lado, si es que se aumentaran los precios en epoca navideña o en la temporada de primavera\n",
    "   #verano la elasticidad seria menor , dado que usualmente las empresas tratan de vender la mayor cantidad a un precio alto, puesto que la gente 'necesitaria'\n",
    "   #solo comprarla. Pese a esto, la elasticidad nos dio positiva porque se estuvo analizando el conjunto completo de datos.\n",
    "\n",
    "#2.-Las fechas, las ventas y los precios , son las variables importantes para este problema.\n",
    "\n",
    "#3.-En base a lo ya tratado,la idea principal era dividir en 3 conjuntos de datos (temporada , navidad y no navidad). En vista de que pueden existir errores en los datos ingresados, lo mejor sera\n",
    "   #tomar la base de datos y subdividirlas en base a las fechas entregadas por el conjunto. El criterio que utilizaria para ''navidad'' seria desde una semana antes del 24 de diciembre\n",
    "   #Desde este punto se empezaria a trabajar.\n",
    "#4.- Como el conjunto de datos es pequeño y acotado (145 datos alrededor) fue posible evidencia de manera practica que no existian puntos Null y los datos ya estaban ingresados de una manera estandar.\n",
    "\n",
    "#En los siguientes apartados veremos los pasos a seguir para solucionar de una forma adecuada los problemas 4 y 5"
   ]
  },
  {
   "cell_type": "code",
   "execution_count": 6,
   "metadata": {},
   "outputs": [
    {
     "data": {
      "text/html": [
       "<div>\n",
       "<style scoped>\n",
       "    .dataframe tbody tr th:only-of-type {\n",
       "        vertical-align: middle;\n",
       "    }\n",
       "\n",
       "    .dataframe tbody tr th {\n",
       "        vertical-align: top;\n",
       "    }\n",
       "\n",
       "    .dataframe thead th {\n",
       "        text-align: right;\n",
       "    }\n",
       "</style>\n",
       "<table border=\"1\" class=\"dataframe\">\n",
       "  <thead>\n",
       "    <tr style=\"text-align: right;\">\n",
       "      <th></th>\n",
       "      <th>columna</th>\n",
       "      <th>unicos</th>\n",
       "      <th>vacios</th>\n",
       "    </tr>\n",
       "  </thead>\n",
       "  <tbody>\n",
       "    <tr>\n",
       "      <th>0</th>\n",
       "      <td>FECHA_LUNES</td>\n",
       "      <td>144</td>\n",
       "      <td>0</td>\n",
       "    </tr>\n",
       "    <tr>\n",
       "      <th>1</th>\n",
       "      <td>VENTA</td>\n",
       "      <td>141</td>\n",
       "      <td>0</td>\n",
       "    </tr>\n",
       "    <tr>\n",
       "      <th>2</th>\n",
       "      <td>PRECIO</td>\n",
       "      <td>144</td>\n",
       "      <td>0</td>\n",
       "    </tr>\n",
       "    <tr>\n",
       "      <th>3</th>\n",
       "      <td>STOCK</td>\n",
       "      <td>144</td>\n",
       "      <td>0</td>\n",
       "    </tr>\n",
       "    <tr>\n",
       "      <th>4</th>\n",
       "      <td>NAVIDAD</td>\n",
       "      <td>3</td>\n",
       "      <td>0</td>\n",
       "    </tr>\n",
       "    <tr>\n",
       "      <th>5</th>\n",
       "      <td>VERANO</td>\n",
       "      <td>2</td>\n",
       "      <td>0</td>\n",
       "    </tr>\n",
       "    <tr>\n",
       "      <th>6</th>\n",
       "      <td>PRIMAVERA</td>\n",
       "      <td>2</td>\n",
       "      <td>0</td>\n",
       "    </tr>\n",
       "  </tbody>\n",
       "</table>\n",
       "</div>"
      ],
      "text/plain": [
       "       columna  unicos  vacios\n",
       "0  FECHA_LUNES     144       0\n",
       "1        VENTA     141       0\n",
       "2       PRECIO     144       0\n",
       "3        STOCK     144       0\n",
       "4      NAVIDAD       3       0\n",
       "5       VERANO       2       0\n",
       "6    PRIMAVERA       2       0"
      ]
     },
     "execution_count": 6,
     "metadata": {},
     "output_type": "execute_result"
    }
   ],
   "source": [
    "#Aqui podremos ver una tabla que nos resuma las entradas y de la cual pudimos sacar la base de nuestro analisis anterior.\n",
    "def resumen_por_columna(dfe,cols):\n",
    "    pd_series = dfe[cols]\n",
    "    \n",
    "    # elementos distintos \n",
    "    l_unique = pd_series.unique()\n",
    "    \n",
    "    # elementos vacios\n",
    "    \n",
    "    l_vacios = pd_series[pd_series.isna()]\n",
    "    \n",
    "    dfe_info = pd.DataFrame({\n",
    "        'columna': [cols],\n",
    "        'unicos': [len(l_unique)],\n",
    "        'vacios': [len(l_vacios)]\n",
    "    })\n",
    "    \n",
    "    return dfe_info\n",
    "\n",
    "frames = []\n",
    "\n",
    "for col in df.columns:\n",
    "    aux_dfs = resumen_por_columna(df,col)\n",
    "    frames.append(aux_dfs)\n",
    "    \n",
    "df_info = pd.concat(frames).reset_index(drop=True)\n",
    "df_info"
   ]
  },
  {
   "cell_type": "code",
   "execution_count": 7,
   "metadata": {},
   "outputs": [
    {
     "data": {
      "text/plain": [
       "<seaborn.axisgrid.FacetGrid at 0x21b71a74898>"
      ]
     },
     "execution_count": 7,
     "metadata": {},
     "output_type": "execute_result"
    },
    {
     "data": {
      "image/png": "[encoded data removed]",
      "text/plain": [
       "<Figure size 642.125x576 with 1 Axes>"
      ]
     },
     "metadata": {
      "needs_background": "light"
     },
     "output_type": "display_data"
    }
   ],
   "source": [
    "# grafico de los puntos anteriormente mencionados\n",
    "\n",
    "\n",
    "df.loc[df['NAVIDAD']==2,'PRIMAVERA']=2\n",
    "\n",
    "# grafico de puntos de una manera colorida\n",
    "sns.lmplot(x='VENTA',\n",
    "           y='PRECIO',\n",
    "           data=df,\n",
    "           height=8,\n",
    "           fit_reg=False, # no ajustar regresion\n",
    "           hue='PRIMAVERA')   # color por Generation"
   ]
  },
  {
   "cell_type": "code",
   "execution_count": 15,
   "metadata": {},
   "outputs": [],
   "source": [
    "#En esta parte iniciaremos con la regresion lineal pedida por el problema 4 y 5\n",
    "\n",
    "X = df[['VENTA']]\n",
    "Y = df['PRECIO']\n",
    "\n",
    "# split dataset\n",
    "\n",
    "X_train, X_test, Y_train, Y_test = train_test_split(X, Y, test_size=0.2, random_state = 2) "
   ]
  },
  {
   "cell_type": "code",
   "execution_count": 24,
   "metadata": {},
   "outputs": [
    {
     "name": "stdout",
     "output_type": "stream",
     "text": [
      "Modelo sin intercepto\n",
      "coeficientes:  [0.1350911]\n",
      "intercepto:  0.0\n"
     ]
    }
   ],
   "source": [
    "# regresion lineal sin intercepto\n",
    "model_1 = linear_model.LinearRegression(fit_intercept = False)\n",
    "model_train_1  = model_1.fit(X_train,Y_train)\n",
    "\n",
    "print('Modelo sin intercepto')\n",
    "print('coeficientes: ',model_train_1.coef_)\n",
    "print('intercepto: ',model_train_1.intercept_)"
   ]
  },
  {
   "cell_type": "code",
   "execution_count": 25,
   "metadata": {},
   "outputs": [
    {
     "name": "stdout",
     "output_type": "stream",
     "text": [
      "Modelo con intercepto\n",
      "coeficientes:  [0.02523904]\n",
      "intercepto:  962.9284090414241\n"
     ]
    }
   ],
   "source": [
    "#  con intercepto\n",
    "model_2 = linear_model.LinearRegression()\n",
    "model_train_2  = model_2.fit(X_train,Y_train)\n",
    "print('Modelo con intercepto')\n",
    "print('coeficientes: ',model_train_2.coef_)\n",
    "print('intercepto: ',model_train_2.intercept_)"
   ]
  },
  {
   "cell_type": "code",
   "execution_count": 18,
   "metadata": {},
   "outputs": [
    {
     "data": {
      "text/plain": [
       "<matplotlib.legend.Legend at 0x21b73339b70>"
      ]
     },
     "execution_count": 18,
     "metadata": {},
     "output_type": "execute_result"
    },
    {
     "data": {
      "image/png": "[encoded data removed]",
      "text/plain": [
       "<Figure size 432x288 with 1 Axes>"
      ]
     },
     "metadata": {
      "needs_background": "light"
     },
     "output_type": "display_data"
    }
   ],
   "source": [
    "#grafico de las tendencias lineales o rectas de tendencias de los datos por colores\n",
    "Y_predict_1 = model_train_1.predict(X_test)\n",
    "\n",
    "Y_predict_2 = model_train_2.predict(X_test)\n",
    "\n",
    "\n",
    "plt.scatter(X_test, Y_test,  color='black')\n",
    "plt.plot(X_test, Y_predict_1, color='red', linewidth=3, label='ols_con_intercepto') #regresion lineal con intercepto\n",
    "plt.plot(X_test, Y_predict_2, color='blue', linewidth=3, label='ols_sin_intercepto') #regresion lineal sin intercepto\n",
    "plt.legend(loc='upper right')\n",
    "\n",
    "#Gracias a esta grafica podemos ver que las rectas no seran representativas y nuestra prediccion puede estar errada"
   ]
  },
  {
   "cell_type": "code",
   "execution_count": 22,
   "metadata": {},
   "outputs": [
    {
     "name": "stdout",
     "output_type": "stream",
     "text": [
      "[1215.31879274 1467.70917645 1720.09956015]\n"
     ]
    }
   ],
   "source": [
    "#En este apartado obtendremos las predicciones pedidas por el problema, utilizando la recta predictoria con intercepto\n",
    "lista=[10000, 20000, 30000]\n",
    "Y=model_train_2.predict(pd.DataFrame(lista))\n",
    "print(Y)"
   ]
  },
  {
   "cell_type": "markdown",
   "metadata": {},
   "source": [
    "### Referencias\n",
    "\n",
    "* [A beginner’s guide to Linear Regression in Python with Scikit-Learn](https://towardsdatascience.com/a-beginners-guide-to-linear-regression-in-python-with-scikit-learn-83a8f7ae2b4f)\n"
   ]
  }
 ],
 "metadata": {
  "kernelspec": {
   "display_name": "Python 3",
   "language": "python",
   "name": "python3"
  },
  "language_info": {
   "codemirror_mode": {
    "name": "ipython",
    "version": 3
   },
   "file_extension": ".py",
   "mimetype": "text/x-python",
   "name": "python",
   "nbconvert_exporter": "python",
   "pygments_lexer": "ipython3",
   "version": "3.7.3"
  }
 },
 "nbformat": 4,
 "nbformat_minor": 4
}
